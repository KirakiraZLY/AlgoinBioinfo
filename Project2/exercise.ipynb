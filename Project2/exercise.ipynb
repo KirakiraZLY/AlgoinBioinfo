{
 "cells": [
  {
   "cell_type": "code",
   "execution_count": 1,
   "metadata": {},
   "outputs": [],
   "source": [
    "# import numpy\n",
    "\n",
    "s = [[0,5,2,5],\n",
    "                [5,0,5,2],\n",
    "                [2,5,0,5],\n",
    "                [5,2,5,0]]\n",
    "alphabet = ['A','C','G','T']\n",
    "\n",
    "def localAlignment(x, y, s,g):\n",
    "    D = [[0 for j in range(0,len(y)+1)] for i in range(0,len(x)+1)]\n",
    "    maxnum = 0\n",
    "    for i in range(1, len(x)+1):\n",
    "        for j in range(1, len(y)+1):\n",
    "            D[i][j] = max(D[i-1][j-1] + s[alphabet.index(x[i-1])][alphabet.index(y[j-1])], # diagonal\n",
    "                          D[i-1][j] + g,    # vertical\n",
    "                          D[i  ][j-1] + g, # horizontal\n",
    "                          0)                               # empty\n",
    "            if maxnum < D[i][j]:\n",
    "                maxnum = max(maxnum,D[i][j])\n",
    "                ii = i\n",
    "                jj = j\n",
    "#     argmax = numpy.where(V == V.max())\n",
    "#     return V, int(V[argmax])\n",
    "    return D,maxnum, ii, jj"
   ]
  },
  {
   "cell_type": "code",
   "execution_count": 2,
   "metadata": {
    "scrolled": true
   },
   "outputs": [
    {
     "name": "stdout",
     "output_type": "stream",
     "text": [
      "0\t0\t0\t0\t0\t0\t0\t0\t0\t0\t0\t0\t0\t\n",
      "0\t0\t5\t5\t5\t5\t5\t5\t5\t5\t5\t5\t5\t\n",
      "0\t5\t5\t10\t10\t10\t10\t10\t10\t10\t10\t10\t10\t\n",
      "0\t5\t10\t10\t15\t15\t15\t15\t15\t15\t15\t15\t15\t\n",
      "0\t5\t10\t15\t15\t17\t20\t20\t20\t20\t20\t20\t20\t\n",
      "0\t5\t10\t15\t20\t20\t20\t25\t25\t25\t25\t25\t25\t\n",
      "0\t5\t10\t15\t20\t22\t25\t25\t30\t30\t30\t30\t30\t\n",
      "0\t5\t10\t15\t20\t22\t27\t27\t30\t35\t35\t35\t35\t\n",
      "0\t5\t10\t15\t20\t25\t27\t32\t32\t35\t40\t40\t40\t\n",
      "0\t5\t10\t15\t20\t25\t27\t32\t32\t35\t40\t45\t45\t\n",
      "0\t5\t10\t15\t20\t25\t30\t32\t37\t37\t40\t45\t50\t\n",
      "0\t5\t10\t15\t20\t25\t30\t35\t37\t37\t42\t45\t50\t\n",
      "0\t5\t10\t15\t20\t25\t30\t35\t40\t42\t42\t45\t50\t\n",
      "Best score=50, in cell (10,12)\n"
     ]
    }
   ],
   "source": [
    "x, y = 'ACGTGTCAACGT', 'ACGTCGTAGCTA'\n",
    "gap = 0\n",
    "D, best, ii, jj = localAlignment(x, y, s,gap)\n",
    "\n",
    "for i in range(0, len(x) + 1):\n",
    "    for j in range(0, len(y) + 1):\n",
    "        print(D[i][j], end='\\t')\n",
    "    print('')\n",
    "\n",
    "print(\"Best score=%d, in cell (%d,%d)\" % (best, ii, jj))"
   ]
  },
  {
   "cell_type": "markdown",
   "metadata": {},
   "source": [
    "The next is Hirschberg's algorithm"
   ]
  },
  {
   "cell_type": "code",
   "execution_count": 5,
   "metadata": {},
   "outputs": [
    {
     "ename": "TypeError",
     "evalue": "slice indices must be integers or None or have an __index__ method",
     "output_type": "error",
     "traceback": [
      "\u001b[1;31m---------------------------------------------------------------------------\u001b[0m",
      "\u001b[1;31mTypeError\u001b[0m                                 Traceback (most recent call last)",
      "\u001b[1;32m<ipython-input-5-4817f15f06c4>\u001b[0m in \u001b[0;36m<module>\u001b[1;34m\u001b[0m\n\u001b[0;32m     50\u001b[0m \u001b[0mB\u001b[0m \u001b[1;33m=\u001b[0m \u001b[1;34m\"AAGG\"\u001b[0m\u001b[1;33m\u001b[0m\u001b[1;33m\u001b[0m\u001b[0m\n\u001b[0;32m     51\u001b[0m \u001b[0mgap\u001b[0m \u001b[1;33m=\u001b[0m \u001b[1;33m-\u001b[0m\u001b[1;36m5\u001b[0m\u001b[1;33m\u001b[0m\u001b[1;33m\u001b[0m\u001b[0m\n\u001b[1;32m---> 52\u001b[1;33m \u001b[0mz\u001b[0m \u001b[1;33m=\u001b[0m \u001b[0mhirschberg\u001b[0m\u001b[1;33m(\u001b[0m\u001b[0mA\u001b[0m\u001b[1;33m,\u001b[0m \u001b[0mB\u001b[0m\u001b[1;33m,\u001b[0m \u001b[0ms\u001b[0m\u001b[1;33m,\u001b[0m \u001b[0mgap\u001b[0m\u001b[1;33m)\u001b[0m\u001b[1;33m\u001b[0m\u001b[1;33m\u001b[0m\u001b[0m\n\u001b[0m\u001b[0;32m     53\u001b[0m \u001b[1;33m\u001b[0m\u001b[0m\n",
      "\u001b[1;32m<ipython-input-5-4817f15f06c4>\u001b[0m in \u001b[0;36mhirschberg\u001b[1;34m(x, y, s, g)\u001b[0m\n\u001b[0;32m     37\u001b[0m     \u001b[0mn\u001b[0m \u001b[1;33m=\u001b[0m \u001b[0mlen\u001b[0m\u001b[1;33m(\u001b[0m\u001b[0mx\u001b[0m\u001b[1;33m)\u001b[0m\u001b[1;33m\u001b[0m\u001b[1;33m\u001b[0m\u001b[0m\n\u001b[0;32m     38\u001b[0m     \u001b[0mm\u001b[0m \u001b[1;33m=\u001b[0m \u001b[0mlen\u001b[0m\u001b[1;33m(\u001b[0m\u001b[0my\u001b[0m\u001b[1;33m)\u001b[0m\u001b[1;33m\u001b[0m\u001b[1;33m\u001b[0m\u001b[0m\n\u001b[1;32m---> 39\u001b[1;33m     \u001b[0mF\u001b[0m\u001b[1;33m,\u001b[0m\u001b[0mG\u001b[0m \u001b[1;33m=\u001b[0m \u001b[0mf\u001b[0m\u001b[1;33m(\u001b[0m\u001b[0mx\u001b[0m\u001b[1;33m[\u001b[0m\u001b[1;33m:\u001b[0m\u001b[0mn\u001b[0m\u001b[1;33m/\u001b[0m\u001b[1;36m2\u001b[0m\u001b[1;33m]\u001b[0m\u001b[1;33m,\u001b[0m\u001b[0my\u001b[0m\u001b[1;33m,\u001b[0m\u001b[0ms\u001b[0m\u001b[1;33m,\u001b[0m\u001b[0mg\u001b[0m\u001b[1;33m)\u001b[0m\u001b[1;33m,\u001b[0m \u001b[0mg\u001b[0m\u001b[1;33m(\u001b[0m\u001b[0mx\u001b[0m\u001b[1;33m[\u001b[0m\u001b[0mn\u001b[0m\u001b[1;33m/\u001b[0m\u001b[1;36m2\u001b[0m\u001b[1;33m:\u001b[0m\u001b[1;33m]\u001b[0m\u001b[1;33m,\u001b[0m\u001b[0my\u001b[0m\u001b[1;33m,\u001b[0m\u001b[0ms\u001b[0m\u001b[1;33m,\u001b[0m\u001b[0mg\u001b[0m\u001b[1;33m)\u001b[0m\u001b[1;33m\u001b[0m\u001b[1;33m\u001b[0m\u001b[0m\n\u001b[0m\u001b[0;32m     40\u001b[0m     \u001b[0mpartition\u001b[0m \u001b[1;33m=\u001b[0m \u001b[1;33m[\u001b[0m\u001b[0mF\u001b[0m\u001b[1;33m[\u001b[0m\u001b[0mj\u001b[0m\u001b[1;33m]\u001b[0m \u001b[1;33m+\u001b[0m \u001b[0mG\u001b[0m\u001b[1;33m[\u001b[0m\u001b[0mm\u001b[0m\u001b[1;33m-\u001b[0m\u001b[0mj\u001b[0m\u001b[1;33m]\u001b[0m \u001b[1;32mfor\u001b[0m \u001b[0mj\u001b[0m \u001b[1;32min\u001b[0m \u001b[0mrange\u001b[0m\u001b[1;33m(\u001b[0m\u001b[0mm\u001b[0m\u001b[1;33m+\u001b[0m\u001b[1;36m1\u001b[0m\u001b[1;33m)\u001b[0m\u001b[1;33m]\u001b[0m\u001b[1;33m\u001b[0m\u001b[1;33m\u001b[0m\u001b[0m\n\u001b[0;32m     41\u001b[0m     \u001b[0mcut\u001b[0m \u001b[1;33m=\u001b[0m \u001b[0mpartition\u001b[0m\u001b[1;33m.\u001b[0m\u001b[0mindex\u001b[0m\u001b[1;33m(\u001b[0m\u001b[0mmax\u001b[0m\u001b[1;33m(\u001b[0m\u001b[0mpartition\u001b[0m\u001b[1;33m)\u001b[0m\u001b[1;33m)\u001b[0m\u001b[1;33m\u001b[0m\u001b[1;33m\u001b[0m\u001b[0m\n",
      "\u001b[1;31mTypeError\u001b[0m: slice indices must be integers or None or have an __index__ method"
     ]
    }
   ],
   "source": [
    "def f(x,y,s,g):\n",
    "    # f(i,j) is the optimal route for (0,0) til (i,j)\n",
    "    n = len(x)\n",
    "    m = len(y)\n",
    "    mat = []\n",
    "    for i in range(0,n+1):\n",
    "        mat.append([0]*(m+1))\n",
    "    for j in range(0,m+1):\n",
    "        mat[0][j] = g * j\n",
    "    for i in range(1,n+1):\n",
    "        mat[i][0] = mat[i-1][0] + g\n",
    "        for j in range(1,m+1):\n",
    "            mat[i][j] = max(mat[i-1][j-1] + s[alphabet.index(x[i-1])][alphabet.index(y[j-1])],\n",
    "                            mat[i-1][j] + g,\n",
    "                            mat[i][j-1] + g)\n",
    "        mat[i-1] = []\n",
    "    return mat[n]\n",
    "\n",
    "def g(x,y,s,g):\n",
    "    n = len(x)\n",
    "    m = len(y)\n",
    "    mat = []\n",
    "    for i in range(0,n+1):\n",
    "        mat.append([0]*(m+1))\n",
    "    for j in range(0,m+1):\n",
    "        mat[0][j] = g * j\n",
    "    for i in range(1,n+1):\n",
    "        mat[i][0] = mat[i-1][0] + g\n",
    "        for j in range(1,m+1):\n",
    "            mat[i][j] = max(mat[i-1][j-1] + s[alphabet.index(x[i-1])][alphabet.index(y[j-1])],\n",
    "                            mat[i-1][j] + g,\n",
    "                            mat[i][j-1] + g)\n",
    "        mat[i-1] = []\n",
    "    return mat[n]\n",
    "\n",
    "def hirschberg(x,y,s,g):\n",
    "    n = len(x)\n",
    "    m = len(y)\n",
    "    F,G = f(x[:n/2],y,s,g), g(x[n/2:],y,s,g)\n",
    "    partition = [F[j] + G[m-j] for j in range(m+1)]\n",
    "    cut = partition.index(max(partition))\n",
    "    # Clear all memory now, so that we don't store data during recursive calls.\n",
    "    F, G, partition = [], [], []\n",
    "    # Now make recursive calls.\n",
    "    callLeft = hirschberg(x[:n/2], y[:cut], s, g)\n",
    "    callRight = hirschberg(x[n/2:], y[cut:], s, g)\n",
    "    return [callLeft[r] + callRight[r] for r in range(3)]\n",
    "\n",
    "A = \"AATAAT\"\n",
    "B = \"AAGG\"\n",
    "gap = -5\n",
    "z = hirschberg(A, B, s, gap)\n",
    "    "
   ]
  }
 ],
 "metadata": {
  "kernelspec": {
   "display_name": "Python 3",
   "language": "python",
   "name": "python3"
  },
  "language_info": {
   "codemirror_mode": {
    "name": "ipython",
    "version": 3
   },
   "file_extension": ".py",
   "mimetype": "text/x-python",
   "name": "python",
   "nbconvert_exporter": "python",
   "pygments_lexer": "ipython3",
   "version": "3.7.3"
  }
 },
 "nbformat": 4,
 "nbformat_minor": 2
}
